{
 "cells": [
  {
   "cell_type": "code",
   "execution_count": 2,
   "id": "32ce91b0-529a-4341-9f29-742bffcd0601",
   "metadata": {},
   "outputs": [],
   "source": [
    "from pyspark.sql import SparkSession"
   ]
  },
  {
   "cell_type": "code",
   "execution_count": 3,
   "id": "7e120765-85eb-4a5b-a6ff-5dac1cf5f199",
   "metadata": {},
   "outputs": [],
   "source": [
    "spark = SparkSession \\\n",
    ".builder \\\n",
    ".appName(\"App\") \\\n",
    ".master(\"local[*]\") \\\n",
    ".getOrCreate()"
   ]
  },
  {
   "cell_type": "code",
   "execution_count": 3,
   "id": "6e70b5cb-7ba3-4bad-950d-eb2080ea71fc",
   "metadata": {},
   "outputs": [
    {
     "data": {
      "text/html": [
       "\n",
       "            <div>\n",
       "                <p><b>SparkSession - in-memory</b></p>\n",
       "                \n",
       "        <div>\n",
       "            <p><b>SparkContext</b></p>\n",
       "\n",
       "            <p><a href=\"http://cf53a039698e:4040\">Spark UI</a></p>\n",
       "\n",
       "            <dl>\n",
       "              <dt>Version</dt>\n",
       "                <dd><code>v3.5.0</code></dd>\n",
       "              <dt>Master</dt>\n",
       "                <dd><code>local[*]</code></dd>\n",
       "              <dt>AppName</dt>\n",
       "                <dd><code>App</code></dd>\n",
       "            </dl>\n",
       "        </div>\n",
       "        \n",
       "            </div>\n",
       "        "
      ],
      "text/plain": [
       "<pyspark.sql.session.SparkSession at 0x7f4ea06e5c50>"
      ]
     },
     "execution_count": 3,
     "metadata": {},
     "output_type": "execute_result"
    }
   ],
   "source": [
    "spark"
   ]
  },
  {
   "cell_type": "code",
   "execution_count": null,
   "id": "ec2cfada-e1a6-4eda-b33d-b94078d531f5",
   "metadata": {},
   "outputs": [],
   "source": [
    "spark.sql(\"\"\"\n",
    "CREATE TABLE IF NOT EXISTS ds.md_account_d (\n",
    "    data_actual_date DATE,\n",
    "    data_actual_end_date DATE,\n",
    "    account_rk DECIMAL,\n",
    "    account_number STRING,\n",
    "    char_type STRING,\n",
    "    currence_rk DECIMAL,\n",
    "    currence_code STRING\n",
    ")\n",
    "STORED AS PARQUET\n",
    "\"\"\"\n",
    ")"
   ]
  },
  {
   "cell_type": "code",
   "execution_count": 4,
   "id": "533e210b-41d8-4827-8ba8-20499e9c2a08",
   "metadata": {},
   "outputs": [],
   "source": [
    "# Define the schema for the MD_ACCOUNT_D table\n",
    "from pyspark.sql.types import StructType, StructField, DateType, IntegerType, StringType\n",
    "\n"
   ]
  },
  {
   "cell_type": "code",
   "execution_count": 20,
   "id": "b35c57a1-a1b0-4bd3-bd17-54fb59adde67",
   "metadata": {},
   "outputs": [],
   "source": [
    "schema_md_account_d = StructType([\n",
    "    StructField(\"data_actual_date\", DateType(), nullable=False),\n",
    "    StructField(\"data_actual_end_date\", DateType(), nullable=False),\n",
    "    StructField(\"account_rk\", IntegerType(), nullable=False),\n",
    "    StructField(\"account_number\", StringType(), nullable=False),\n",
    "    StructField(\"char_type\", StringType(), nullable=False),\n",
    "    StructField(\"currency_rk\", IntegerType(), nullable=False),\n",
    "    StructField(\"currency_code\", StringType(), nullable=False)\n",
    "])"
   ]
  },
  {
   "cell_type": "code",
   "execution_count": 32,
   "id": "b2b40c63-5bab-4bbb-9482-6725f19487ec",
   "metadata": {},
   "outputs": [],
   "source": [
    "# Load the CSV file with the defined schema\n",
    "df = spark.read.csv(\n",
    "    \"data/md_account_d.csv\",\n",
    "    schema=schema_md_account_d,\n",
    "    header=True,  # assuming the CSV has a header row\n",
    "    sep=\";\"\n",
    ")\n",
    "\n",
    "# Convert to PARQUET format\n",
    "df.write.parquet(\"data/md_account_d.parquet\", mode=\"overwrite\")"
   ]
  },
  {
   "cell_type": "code",
   "execution_count": 4,
   "id": "8e010450-38e6-4326-b8a2-6e8e368947fc",
   "metadata": {},
   "outputs": [],
   "source": [
    "# Optional: verify the data\n",
    "parquet_df = spark.read.parquet(\"data/md_account_d.parquet\")"
   ]
  },
  {
   "cell_type": "code",
   "execution_count": 5,
   "id": "65f49e9c-2a46-4628-9cd0-df6800cfb718",
   "metadata": {},
   "outputs": [
    {
     "name": "stdout",
     "output_type": "stream",
     "text": [
      "root\n",
      " |-- data_actual_date: date (nullable = true)\n",
      " |-- data_actual_end_date: date (nullable = true)\n",
      " |-- account_rk: integer (nullable = true)\n",
      " |-- account_number: string (nullable = true)\n",
      " |-- char_type: string (nullable = true)\n",
      " |-- currency_rk: integer (nullable = true)\n",
      " |-- currency_code: string (nullable = true)\n",
      "\n"
     ]
    }
   ],
   "source": [
    "parquet_df.printSchema()"
   ]
  },
  {
   "cell_type": "code",
   "execution_count": 7,
   "id": "c18eb443-8f4e-41f2-938f-40dc52de752c",
   "metadata": {},
   "outputs": [
    {
     "name": "stdout",
     "output_type": "stream",
     "text": [
      "+----------------+--------------------+----------+--------------------+---------+-----------+-------------+\n",
      "|data_actual_date|data_actual_end_date|account_rk|      account_number|char_type|currency_rk|currency_code|\n",
      "+----------------+--------------------+----------+--------------------+---------+-----------+-------------+\n",
      "|      2018-01-01|          2018-01-31|  36237725|30425840700000583001|        А|         35|          840|\n",
      "|      2018-01-01|          2018-01-31|     24656|30114840700000770002|        А|         35|          840|\n",
      "|      2018-01-01|          2018-01-31|  18849846|30109810500000435003|        П|         34|          643|\n",
      "|      2018-01-01|          2018-01-31|   1972647|30111810700000908001|        П|         34|          643|\n",
      "|      2018-01-01|          2018-01-31|  34157174|30424810100000583001|        А|         34|          643|\n",
      "+----------------+--------------------+----------+--------------------+---------+-----------+-------------+\n",
      "only showing top 5 rows\n",
      "\n"
     ]
    }
   ],
   "source": [
    "parquet_df.show(5)"
   ]
  }
 ],
 "metadata": {
  "kernelspec": {
   "display_name": "Python 3 (ipykernel)",
   "language": "python",
   "name": "python3"
  },
  "language_info": {
   "codemirror_mode": {
    "name": "ipython",
    "version": 3
   },
   "file_extension": ".py",
   "mimetype": "text/x-python",
   "name": "python",
   "nbconvert_exporter": "python",
   "pygments_lexer": "ipython3",
   "version": "3.11.6"
  }
 },
 "nbformat": 4,
 "nbformat_minor": 5
}
